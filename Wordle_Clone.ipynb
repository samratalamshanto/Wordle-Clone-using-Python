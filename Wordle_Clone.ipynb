{
  "nbformat": 4,
  "nbformat_minor": 0,
  "metadata": {
    "colab": {
      "name": " Wordle Clone.ipynb",
      "provenance": [],
      "collapsed_sections": [],
      "authorship_tag": "ABX9TyOBWVxYVtx3/nW0Z06Orvmk",
      "include_colab_link": true
    },
    "kernelspec": {
      "name": "python3",
      "display_name": "Python 3"
    },
    "language_info": {
      "name": "python"
    }
  },
  "cells": [
    {
      "cell_type": "markdown",
      "metadata": {
        "id": "view-in-github",
        "colab_type": "text"
      },
      "source": [
        "<a href=\"https://colab.research.google.com/github/samratalamshanto/Wordle-Clone-using-Python/blob/main/Wordle_Clone.ipynb\" target=\"_parent\"><img src=\"https://colab.research.google.com/assets/colab-badge.svg\" alt=\"Open In Colab\"/></a>"
      ]
    },
    {
      "cell_type": "code",
      "execution_count": 1,
      "metadata": {
        "id": "IQnUWO4LhkYA"
      },
      "outputs": [],
      "source": [
        "import pandas as pd\n",
        "import numpy as np"
      ]
    },
    {
      "cell_type": "code",
      "source": [
        "data = pd.read_csv(\"/content/fiveletterwords.txt\",header=None)\n",
        "data"
      ],
      "metadata": {
        "id": "-hoLwbqjhy3W",
        "colab": {
          "base_uri": "https://localhost:8080/",
          "height": 424
        },
        "outputId": "2bb4fe3a-3f90-4adb-be0c-f57e7b3f3a66"
      },
      "execution_count": 2,
      "outputs": [
        {
          "output_type": "execute_result",
          "data": {
            "text/plain": [
              "          0\n",
              "0     which\n",
              "1     there\n",
              "2     their\n",
              "3     about\n",
              "4     would\n",
              "...     ...\n",
              "5752  osier\n",
              "5753  roble\n",
              "5754  rumba\n",
              "5755  biffy\n",
              "5756  pupal\n",
              "\n",
              "[5757 rows x 1 columns]"
            ],
            "text/html": [
              "\n",
              "  <div id=\"df-aa6aaceb-0a35-4ae3-b03f-4bb7f5f05a39\">\n",
              "    <div class=\"colab-df-container\">\n",
              "      <div>\n",
              "<style scoped>\n",
              "    .dataframe tbody tr th:only-of-type {\n",
              "        vertical-align: middle;\n",
              "    }\n",
              "\n",
              "    .dataframe tbody tr th {\n",
              "        vertical-align: top;\n",
              "    }\n",
              "\n",
              "    .dataframe thead th {\n",
              "        text-align: right;\n",
              "    }\n",
              "</style>\n",
              "<table border=\"1\" class=\"dataframe\">\n",
              "  <thead>\n",
              "    <tr style=\"text-align: right;\">\n",
              "      <th></th>\n",
              "      <th>0</th>\n",
              "    </tr>\n",
              "  </thead>\n",
              "  <tbody>\n",
              "    <tr>\n",
              "      <th>0</th>\n",
              "      <td>which</td>\n",
              "    </tr>\n",
              "    <tr>\n",
              "      <th>1</th>\n",
              "      <td>there</td>\n",
              "    </tr>\n",
              "    <tr>\n",
              "      <th>2</th>\n",
              "      <td>their</td>\n",
              "    </tr>\n",
              "    <tr>\n",
              "      <th>3</th>\n",
              "      <td>about</td>\n",
              "    </tr>\n",
              "    <tr>\n",
              "      <th>4</th>\n",
              "      <td>would</td>\n",
              "    </tr>\n",
              "    <tr>\n",
              "      <th>...</th>\n",
              "      <td>...</td>\n",
              "    </tr>\n",
              "    <tr>\n",
              "      <th>5752</th>\n",
              "      <td>osier</td>\n",
              "    </tr>\n",
              "    <tr>\n",
              "      <th>5753</th>\n",
              "      <td>roble</td>\n",
              "    </tr>\n",
              "    <tr>\n",
              "      <th>5754</th>\n",
              "      <td>rumba</td>\n",
              "    </tr>\n",
              "    <tr>\n",
              "      <th>5755</th>\n",
              "      <td>biffy</td>\n",
              "    </tr>\n",
              "    <tr>\n",
              "      <th>5756</th>\n",
              "      <td>pupal</td>\n",
              "    </tr>\n",
              "  </tbody>\n",
              "</table>\n",
              "<p>5757 rows × 1 columns</p>\n",
              "</div>\n",
              "      <button class=\"colab-df-convert\" onclick=\"convertToInteractive('df-aa6aaceb-0a35-4ae3-b03f-4bb7f5f05a39')\"\n",
              "              title=\"Convert this dataframe to an interactive table.\"\n",
              "              style=\"display:none;\">\n",
              "        \n",
              "  <svg xmlns=\"http://www.w3.org/2000/svg\" height=\"24px\"viewBox=\"0 0 24 24\"\n",
              "       width=\"24px\">\n",
              "    <path d=\"M0 0h24v24H0V0z\" fill=\"none\"/>\n",
              "    <path d=\"M18.56 5.44l.94 2.06.94-2.06 2.06-.94-2.06-.94-.94-2.06-.94 2.06-2.06.94zm-11 1L8.5 8.5l.94-2.06 2.06-.94-2.06-.94L8.5 2.5l-.94 2.06-2.06.94zm10 10l.94 2.06.94-2.06 2.06-.94-2.06-.94-.94-2.06-.94 2.06-2.06.94z\"/><path d=\"M17.41 7.96l-1.37-1.37c-.4-.4-.92-.59-1.43-.59-.52 0-1.04.2-1.43.59L10.3 9.45l-7.72 7.72c-.78.78-.78 2.05 0 2.83L4 21.41c.39.39.9.59 1.41.59.51 0 1.02-.2 1.41-.59l7.78-7.78 2.81-2.81c.8-.78.8-2.07 0-2.86zM5.41 20L4 18.59l7.72-7.72 1.47 1.35L5.41 20z\"/>\n",
              "  </svg>\n",
              "      </button>\n",
              "      \n",
              "  <style>\n",
              "    .colab-df-container {\n",
              "      display:flex;\n",
              "      flex-wrap:wrap;\n",
              "      gap: 12px;\n",
              "    }\n",
              "\n",
              "    .colab-df-convert {\n",
              "      background-color: #E8F0FE;\n",
              "      border: none;\n",
              "      border-radius: 50%;\n",
              "      cursor: pointer;\n",
              "      display: none;\n",
              "      fill: #1967D2;\n",
              "      height: 32px;\n",
              "      padding: 0 0 0 0;\n",
              "      width: 32px;\n",
              "    }\n",
              "\n",
              "    .colab-df-convert:hover {\n",
              "      background-color: #E2EBFA;\n",
              "      box-shadow: 0px 1px 2px rgba(60, 64, 67, 0.3), 0px 1px 3px 1px rgba(60, 64, 67, 0.15);\n",
              "      fill: #174EA6;\n",
              "    }\n",
              "\n",
              "    [theme=dark] .colab-df-convert {\n",
              "      background-color: #3B4455;\n",
              "      fill: #D2E3FC;\n",
              "    }\n",
              "\n",
              "    [theme=dark] .colab-df-convert:hover {\n",
              "      background-color: #434B5C;\n",
              "      box-shadow: 0px 1px 3px 1px rgba(0, 0, 0, 0.15);\n",
              "      filter: drop-shadow(0px 1px 2px rgba(0, 0, 0, 0.3));\n",
              "      fill: #FFFFFF;\n",
              "    }\n",
              "  </style>\n",
              "\n",
              "      <script>\n",
              "        const buttonEl =\n",
              "          document.querySelector('#df-aa6aaceb-0a35-4ae3-b03f-4bb7f5f05a39 button.colab-df-convert');\n",
              "        buttonEl.style.display =\n",
              "          google.colab.kernel.accessAllowed ? 'block' : 'none';\n",
              "\n",
              "        async function convertToInteractive(key) {\n",
              "          const element = document.querySelector('#df-aa6aaceb-0a35-4ae3-b03f-4bb7f5f05a39');\n",
              "          const dataTable =\n",
              "            await google.colab.kernel.invokeFunction('convertToInteractive',\n",
              "                                                     [key], {});\n",
              "          if (!dataTable) return;\n",
              "\n",
              "          const docLinkHtml = 'Like what you see? Visit the ' +\n",
              "            '<a target=\"_blank\" href=https://colab.research.google.com/notebooks/data_table.ipynb>data table notebook</a>'\n",
              "            + ' to learn more about interactive tables.';\n",
              "          element.innerHTML = '';\n",
              "          dataTable['output_type'] = 'display_data';\n",
              "          await google.colab.output.renderOutput(dataTable, element);\n",
              "          const docLink = document.createElement('div');\n",
              "          docLink.innerHTML = docLinkHtml;\n",
              "          element.appendChild(docLink);\n",
              "        }\n",
              "      </script>\n",
              "    </div>\n",
              "  </div>\n",
              "  "
            ]
          },
          "metadata": {},
          "execution_count": 2
        }
      ]
    },
    {
      "cell_type": "markdown",
      "source": [
        "# Task1: Implement a function word_list() that reads the 5_letter_words.txt file and returns a list of the words in the file."
      ],
      "metadata": {
        "id": "5vvyb6Fsiwgb"
      }
    },
    {
      "cell_type": "code",
      "source": [
        "def word_list(path):\n",
        "  data = pd.read_csv(path,header=None) #read file as dataframe\n",
        "  word_lst = []\n",
        "  for i in range(len(data)):\n",
        "    word_lst.append(data[0].iloc[i])\n",
        "  return word_lst\n",
        "\n",
        "path=\"/content/fiveletterwords.txt\"\n",
        "word_lists = word_list(path)\n",
        "len(word_lists)\n"
      ],
      "metadata": {
        "colab": {
          "base_uri": "https://localhost:8080/"
        },
        "id": "BHMMd0gSiOEn",
        "outputId": "ee1f5d1a-0921-4c74-bb9b-c9046e5fcde5"
      },
      "execution_count": 3,
      "outputs": [
        {
          "output_type": "execute_result",
          "data": {
            "text/plain": [
              "5757"
            ]
          },
          "metadata": {},
          "execution_count": 3
        }
      ]
    },
    {
      "cell_type": "markdown",
      "source": [
        "## Task2: Implement a function random_word() that takes a list of words as a parameter and returns a random word from this list."
      ],
      "metadata": {
        "id": "q9Cy2x_llkhK"
      }
    },
    {
      "cell_type": "code",
      "source": [
        "import random\n",
        "def random_word(word_list):\n",
        "  word = random.choice(word_list)  #random.choice() method\n",
        "  return word\n",
        "\n",
        "random_word(word_lists)\n"
      ],
      "metadata": {
        "colab": {
          "base_uri": "https://localhost:8080/",
          "height": 35
        },
        "id": "AT0yR0kTjl03",
        "outputId": "0e323dd5-c7a6-4bb2-a689-e9f643cc6e51"
      },
      "execution_count": 4,
      "outputs": [
        {
          "output_type": "execute_result",
          "data": {
            "text/plain": [
              "'indie'"
            ],
            "application/vnd.google.colaboratory.intrinsic+json": {
              "type": "string"
            }
          },
          "metadata": {},
          "execution_count": 4
        }
      ]
    },
    {
      "cell_type": "markdown",
      "source": [
        "## Task3: Implement a function is_real_word() that takes two parameters, a guess and a word list and returns True if the word is in the word list and False otherwise."
      ],
      "metadata": {
        "id": "OkIVO9FLnFQ9"
      }
    },
    {
      "cell_type": "code",
      "source": [
        "def  is_real_word(word, word_list):\n",
        "  if(word in word_list):\n",
        "    return True\n",
        "  return False\n"
      ],
      "metadata": {
        "id": "NgIMm_8i5q8S"
      },
      "execution_count": 5,
      "outputs": []
    },
    {
      "cell_type": "code",
      "source": [
        "is_real_word('weirs',word_lists)"
      ],
      "metadata": {
        "colab": {
          "base_uri": "https://localhost:8080/"
        },
        "id": "EN5anI93mdWj",
        "outputId": "66733ed9-acbd-4354-b3df-5fa91a309816"
      },
      "execution_count": 6,
      "outputs": [
        {
          "output_type": "execute_result",
          "data": {
            "text/plain": [
              "True"
            ]
          },
          "metadata": {},
          "execution_count": 6
        }
      ]
    },
    {
      "cell_type": "code",
      "source": [
        "is_real_word('whigh',word_lists)"
      ],
      "metadata": {
        "colab": {
          "base_uri": "https://localhost:8080/"
        },
        "id": "xTTWsxxNns1s",
        "outputId": "a9e70136-7e35-42a1-f37f-d2f96b3b171d"
      },
      "execution_count": 7,
      "outputs": [
        {
          "output_type": "execute_result",
          "data": {
            "text/plain": [
              "False"
            ]
          },
          "metadata": {},
          "execution_count": 7
        }
      ]
    },
    {
      "cell_type": "markdown",
      "source": [
        "## Task4: Implement a function check_guess()that takes two parameters. The first is the guessed word and the second is the word the user has to find. check_guess() returns a string containing the following characters:\n",
        ">* X for each character in the guess that is at the correct position.\n",
        "> * O for each character in the guess that is in the word but not at the correct position.\n",
        ">* _ for each character in the guess that is not part of the word. For example, check_guess(\"birds\", \"words\") should return __XXX.\n",
        ">* If a letter is used twice in the guessed word and exists only once in the word to be found, then only one letter in the return string is marked. In case one of the two letters is positioned correctly, then this letter is marked with an X in the return string. For example, check_guess(\"carat\", \"train\") should return _OO_O. Another example, check_guess(\"taunt\", \"train\") should return XO_O_"
      ],
      "metadata": {
        "id": "yGQbLncQKSAb"
      }
    },
    {
      "cell_type": "code",
      "source": [
        "findWord = random_word(word_lists)\n",
        "guessWord= input(\"Guess a word: \")\n",
        "def check_guess(guessWord,findWord):\n",
        "  string1=\"\"\n",
        "  if(len(guessWord)==5):\n",
        "    lst=[] # append all letter to skip double or more letter and check that it is present or not in the list \n",
        "    for i in range(len(guessWord)):\n",
        "      if(guessWord[i]==findWord[i]):  #for matching\n",
        "        string1=string1 + 'X'\n",
        "        lst.append(guessWord[i])\n",
        "      else:\n",
        "        flag=0  #set flag to check that it found letter in the other position or not\n",
        "        for j in range(len(guessWord)):  # if not match then search to the others position\n",
        "          if(guessWord[i] not in lst):\n",
        "            if (guessWord[i]==findWord[j]):\n",
        "              string1=string1 + 'O'\n",
        "              flag=1\n",
        "              lst.append(guessWord[i])\n",
        "              break #if there are more than one, we will take only the first one and then break the loop\n",
        "        if(flag==0 and guessWord[i] not in lst):\n",
        "          string1=string1 + '_' # if not match that means that is not part of the word.\n",
        "\n",
        "    print(\"Guess Word: \",guessWord)\n",
        "    print(\"Find Word:  \",findWord)\n",
        "    print(\"Pattern  :  \",string1)\n",
        "    \n",
        "\n",
        "\n",
        "  return string1\n",
        "\n",
        "check_guess(guessWord,findWord)\n"
      ],
      "metadata": {
        "id": "YhdoDyKzKtxR",
        "colab": {
          "base_uri": "https://localhost:8080/",
          "height": 105
        },
        "outputId": "a2497f57-3d66-4854-e2dc-11889e9879ca"
      },
      "execution_count": 8,
      "outputs": [
        {
          "output_type": "stream",
          "name": "stdout",
          "text": [
            "Guess a word: hello\n",
            "Guess Word:  hello\n",
            "Find Word:   wrist\n",
            "Pattern  :   _____\n"
          ]
        },
        {
          "output_type": "execute_result",
          "data": {
            "text/plain": [
              "'_____'"
            ],
            "application/vnd.google.colaboratory.intrinsic+json": {
              "type": "string"
            }
          },
          "metadata": {},
          "execution_count": 8
        }
      ]
    },
    {
      "cell_type": "code",
      "source": [
        "check_guess(\"birds\", \"words\")"
      ],
      "metadata": {
        "colab": {
          "base_uri": "https://localhost:8080/",
          "height": 87
        },
        "id": "-pXS3KdfpynB",
        "outputId": "aabdc0e8-bfcf-499c-e637-df13e704b855"
      },
      "execution_count": 9,
      "outputs": [
        {
          "output_type": "stream",
          "name": "stdout",
          "text": [
            "Guess Word:  birds\n",
            "Find Word:   words\n",
            "Pattern  :   __XXX\n"
          ]
        },
        {
          "output_type": "execute_result",
          "data": {
            "text/plain": [
              "'__XXX'"
            ],
            "application/vnd.google.colaboratory.intrinsic+json": {
              "type": "string"
            }
          },
          "metadata": {},
          "execution_count": 9
        }
      ]
    },
    {
      "cell_type": "code",
      "source": [
        "check_guess(\"taunt\", \"train\")"
      ],
      "metadata": {
        "colab": {
          "base_uri": "https://localhost:8080/",
          "height": 87
        },
        "id": "GtuixIoMoT16",
        "outputId": "9d541b6c-4db3-4684-c44a-462dd9695a03"
      },
      "execution_count": 10,
      "outputs": [
        {
          "output_type": "stream",
          "name": "stdout",
          "text": [
            "Guess Word:  taunt\n",
            "Find Word:   train\n",
            "Pattern  :   XO_O\n"
          ]
        },
        {
          "output_type": "execute_result",
          "data": {
            "text/plain": [
              "'XO_O'"
            ],
            "application/vnd.google.colaboratory.intrinsic+json": {
              "type": "string"
            }
          },
          "metadata": {},
          "execution_count": 10
        }
      ]
    },
    {
      "cell_type": "code",
      "source": [
        "check_guess(\"carat\", \"train\")"
      ],
      "metadata": {
        "colab": {
          "base_uri": "https://localhost:8080/",
          "height": 87
        },
        "id": "KqiWntKAdUal",
        "outputId": "811c6350-a8df-48bd-c3ad-a3e10474c6b9"
      },
      "execution_count": 11,
      "outputs": [
        {
          "output_type": "stream",
          "name": "stdout",
          "text": [
            "Guess Word:  carat\n",
            "Find Word:   train\n",
            "Pattern  :   _OOO\n"
          ]
        },
        {
          "output_type": "execute_result",
          "data": {
            "text/plain": [
              "'_OOO'"
            ],
            "application/vnd.google.colaboratory.intrinsic+json": {
              "type": "string"
            }
          },
          "metadata": {},
          "execution_count": 11
        }
      ]
    },
    {
      "cell_type": "markdown",
      "source": [
        "## Task5: Implement a function next_guess() that takes a word list as a parameter. The function asks the user for a guess, converts the guess to lower case and checks if the guess is in the word list. If this is the case, the guess is returned. Otherwise, the function asks the user for another guess."
      ],
      "metadata": {
        "id": "88hzXQzfs70p"
      }
    },
    {
      "cell_type": "code",
      "source": [
        "import operator #operator.not_()\n",
        "\n",
        "def next_guess(word_list):\n",
        "  word= input(\"Guess a word: \")\n",
        "  word=word.lower();\n",
        "  if(is_real_word(word,word_list)):\n",
        "    return(word)\n",
        "  else:\n",
        "    while(operator.not_(is_real_word(word,word_list))):  #when it returns true the condition will be false and stop loop\n",
        "      word= input(\"Gusee another word: \")\n",
        "      word=word.lower()\n",
        "    return(word)  #it gusess the word correctly thats why return the word\n",
        "    \n",
        "    "
      ],
      "metadata": {
        "id": "ycetgrkttB63"
      },
      "execution_count": 12,
      "outputs": []
    },
    {
      "cell_type": "code",
      "source": [
        "next_guess(word_lists)"
      ],
      "metadata": {
        "id": "GFFIfOhWu3sR",
        "colab": {
          "base_uri": "https://localhost:8080/",
          "height": 53
        },
        "outputId": "143d1add-66ac-4f60-c794-fb4633880508"
      },
      "execution_count": 13,
      "outputs": [
        {
          "name": "stdout",
          "output_type": "stream",
          "text": [
            "Guess a word: hello\n"
          ]
        },
        {
          "output_type": "execute_result",
          "data": {
            "text/plain": [
              "'hello'"
            ],
            "application/vnd.google.colaboratory.intrinsic+json": {
              "type": "string"
            }
          },
          "metadata": {},
          "execution_count": 13
        }
      ]
    },
    {
      "cell_type": "markdown",
      "source": [
        "## Task6: Implement a function play() that:\n",
        ">* Uses the functions word_list and random_word to select a random 5 letter word.\n",
        ">* Asks the user for a guess using the next_guess function.\n",
        ">* Checks each guess using the check_guess function and shows the result to the user.\n",
        ">* Checks if the users guessed the right word with six guesses or less. If yes, the user wins and the function prints You won!. Otherwise the user loses and the function prints You lost! as well as The word was: followed by the word the user had to find."
      ],
      "metadata": {
        "id": "9tp6PpnSsh1y"
      }
    },
    {
      "cell_type": "code",
      "source": [
        "def play():\n",
        "  word_lists= word_list(\"/content/fiveletterwords.txt\")  #word list\n",
        "  randomWord= random_word(word_lists)       #guess random word\n",
        "  flag=0 #flag for checking that the win situation find in the loop or not\n",
        "  for i in range(6): \n",
        "    print(\"Round: \",i+1)\n",
        "    str1= check_guess(next_guess(word_lists),randomWord)  #check_guess using next_guess and randomWord\n",
        "    if(str1==\"XXXXX\" ): #check the correct guess\n",
        "      print(\"You Won!!\")\n",
        "      flag=1\n",
        "      break\n",
        "  if(flag==0):\n",
        "    print(\"You lost!\")\n",
        "\n",
        "play()"
      ],
      "metadata": {
        "id": "1nhZ5T8fDSAd",
        "colab": {
          "base_uri": "https://localhost:8080/"
        },
        "outputId": "38c94277-b5f0-43bb-fe6c-45a965fc94d8"
      },
      "execution_count": 16,
      "outputs": [
        {
          "output_type": "stream",
          "name": "stdout",
          "text": [
            "Round:  1\n",
            "Guess a word: hello\n",
            "Guess Word:  hello\n",
            "Find Word:   spurt\n",
            "Pattern  :   _____\n",
            "Round:  2\n",
            "Guess a word: hello\n",
            "Guess Word:  hello\n",
            "Find Word:   spurt\n",
            "Pattern  :   _____\n",
            "Round:  3\n",
            "Guess a word: spurt\n",
            "Guess Word:  spurt\n",
            "Find Word:   spurt\n",
            "Pattern  :   XXXXX\n",
            "You Won!!\n"
          ]
        }
      ]
    },
    {
      "cell_type": "code",
      "source": [
        "play()"
      ],
      "metadata": {
        "colab": {
          "base_uri": "https://localhost:8080/"
        },
        "id": "50K-vZHV77oW",
        "outputId": "80a35bbd-e497-421c-b1eb-dbd14938c42a"
      },
      "execution_count": 19,
      "outputs": [
        {
          "output_type": "stream",
          "name": "stdout",
          "text": [
            "Round:  1\n",
            "Guess a word: hello\n",
            "Guess Word:  hello\n",
            "Find Word:   brags\n",
            "Pattern  :   _____\n",
            "Round:  2\n",
            "Guess a word: spurt\n",
            "Guess Word:  spurt\n",
            "Find Word:   brags\n",
            "Pattern  :   O__O_\n",
            "Round:  3\n",
            "Guess a word: spurt\n",
            "Guess Word:  spurt\n",
            "Find Word:   brags\n",
            "Pattern  :   O__O_\n",
            "Round:  4\n",
            "Guess a word: spurt\n",
            "Guess Word:  spurt\n",
            "Find Word:   brags\n",
            "Pattern  :   O__O_\n",
            "Round:  5\n",
            "Guess a word: spurt\n",
            "Guess Word:  spurt\n",
            "Find Word:   brags\n",
            "Pattern  :   O__O_\n",
            "Round:  6\n",
            "Guess a word: spurt\n",
            "Guess Word:  spurt\n",
            "Find Word:   brags\n",
            "Pattern  :   O__O_\n",
            "You lost!\n"
          ]
        }
      ]
    }
  ]
}